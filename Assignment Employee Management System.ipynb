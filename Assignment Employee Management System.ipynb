{
 "cells": [
  {
   "cell_type": "code",
   "execution_count": 68,
   "metadata": {},
   "outputs": [
    {
     "name": "stdout",
     "output_type": "stream",
     "text": [
      "Press 1 to enter a new employee record.\n",
      "Press 2 to update an existing record.\n",
      "Press 3 to search from the employee records.\n",
      "Press 4 to remove a record.\n",
      "Press q to exit the program.\n",
      "Press: q\n",
      "Program has been terminated\n"
     ]
    }
   ],
   "source": [
    "i = Ask_User()\n",
    "j = ''\n",
    "while i != 'q':\n",
    "    if i == '1':\n",
    "        while j != 'q':\n",
    "            Employee_Creation()\n",
    "            j = Ask_User_to_continue()\n",
    "        i = Ask_User()\n",
    "        j = ''\n",
    "    if i == '2':\n",
    "        while j != 'q':\n",
    "            Employee_Updation()\n",
    "            j = Ask_User_to_continue()\n",
    "        i = Ask_User()\n",
    "        j = ''\n",
    "    if i == '3':\n",
    "        while j != 'q':\n",
    "            Employee_Read()\n",
    "            j = Ask_User_to_continue()\n",
    "        i = Ask_User()\n",
    "        j = ''\n",
    "    if i == '4':\n",
    "        while j != 'q':\n",
    "            Employee_Deletion()\n",
    "            j = Ask_User_to_continue()\n",
    "        i = Ask_User()\n",
    "        j = ''\n",
    "print('Program has been terminated')"
   ]
  },
  {
   "cell_type": "code",
   "execution_count": 70,
   "metadata": {},
   "outputs": [],
   "source": [
    "# Employee Creation\n",
    "def Employee_Creation():\n",
    "    employee_id = input('Enter employee id: ')\n",
    "    employee_name = input('Enter employee name: ')\n",
    "    employee_type = input('Enter employee type: ')\n",
    "    employee_age = input('Enter employee age: ')\n",
    "    employee_status = input('Enter employee status: ')\n",
    "    employee_kids = input('Enter employee kids: ')\n",
    "    employee_years = input('Enter employee years: ')\n",
    "  \n",
    "    employee_data = {}\n",
    "    employee_data['id'] = employee_id\n",
    "    employee_data['name'] = employee_name\n",
    "    employee_data['type'] = employee_type\n",
    "    employee_data['age'] = employee_age\n",
    "    employee_data['status'] = employee_status\n",
    "    employee_data['kids'] = employee_kids\n",
    "    employee_data['years'] = employee_years\n",
    "    dict_employee[employee_id]= employee_data\n",
    "    print(dict_employee)"
   ]
  },
  {
   "cell_type": "code",
   "execution_count": 5,
   "metadata": {},
   "outputs": [],
   "source": [
    "def Employee_Updation():\n",
    "    update_data = input('Enter Employee id: ')\n",
    "    try:\n",
    "        employee_id = update_data\n",
    "        employee_name = input('Enter employee name: ')\n",
    "        employee_type = input('Enter employee type: ')\n",
    "        employee_age = input('Enter employee age: ')\n",
    "        employee_status = input('Enter employee status: ')\n",
    "        employee_kids = input('Enter employee kids: ')\n",
    "        employee_years = input('Enter employee years: ')\n",
    "        dict_employee[employee_id]['id']= employee_id\n",
    "        dict_employee[employee_id]['name']= employee_name\n",
    "        dict_employee[employee_id]['type']= employee_type\n",
    "        dict_employee[employee_id]['age']= employee_age\n",
    "        dict_employee[employee_id]['status']= employee_status\n",
    "        dict_employee[employee_id]['kids']= employee_kids\n",
    "        dict_employee[employee_id]['years']= employee_years\n",
    "    except:\n",
    "        print('Record not found')    "
   ]
  },
  {
   "cell_type": "code",
   "execution_count": 69,
   "metadata": {},
   "outputs": [],
   "source": [
    "def Employee_Read():\n",
    "    try:\n",
    "        user_search = input('Please search: ')\n",
    "        list = ['name','type','age','status','kids','years']\n",
    "        for i in dict_employee:\n",
    "            for j in range(6):\n",
    "                if dict_employee[i][list[j]] == user_search:\n",
    "                    print(dict_employee[i])\n",
    "    except:\n",
    "        print('Invalid Entry.')"
   ]
  },
  {
   "cell_type": "code",
   "execution_count": 7,
   "metadata": {},
   "outputs": [],
   "source": [
    "def Employee_Deletion():\n",
    "    del_data = input('Enter Employee id: ')\n",
    "    try:\n",
    "        del dict_employee[del_data]\n",
    "        print(dict_employee)\n",
    "    except:\n",
    "        print('Record not found')   "
   ]
  },
  {
   "cell_type": "code",
   "execution_count": 8,
   "metadata": {},
   "outputs": [],
   "source": [
    "def Ask_User():\n",
    "    print('Press 1 to enter a new employee record.')\n",
    "    print('Press 2 to update an existing record.')\n",
    "    print('Press 3 to search from the employee records.')\n",
    "    print('Press 4 to remove a record.')\n",
    "    print('Press q to exit the program.')\n",
    "    i = input('Press: ')\n",
    "    return i"
   ]
  },
  {
   "cell_type": "code",
   "execution_count": 9,
   "metadata": {},
   "outputs": [],
   "source": [
    "def Ask_User_to_continue():\n",
    "    print('Press 1 to enter.')\n",
    "    print('Press q to exit the program.')\n",
    "    i = input('Press any key: ')\n",
    "    return i"
   ]
  },
  {
   "cell_type": "code",
   "execution_count": 16,
   "metadata": {},
   "outputs": [],
   "source": [
    "dict_employee = {'1': {'id': '1', 'name': 'Jawwad', 'type': 'Staff', 'age': '27', 'status': 'single', 'kids': '0', 'years': '2019'}, '2': {'id': '2', 'name': 'Arsalan', 'type': 'Staff', 'age': '22', 'status': 'married', 'kids': '0', 'years': '2018'}, '3': {'id': '3', 'name': 'Hina', 'type': 'Officer', 'age': '28', 'status': 'single', 'kids': '0', 'years': '2016'}, '4': {'id': '4', 'name': 'Isra', 'type': 'Staff', 'age': '28', 'status': 'married', 'kids': '1', 'years': '2015'}, '5': {'id': '5', 'name': 'Faizan', 'type': 'Officer', 'age': '33', 'status': 'single', 'kids': '0', 'years': '2011'}, '6': {'id': '6', 'name': 'Ammar', 'type': 'Officer', 'age': '33', 'status': 'married', 'kids': '1', 'years': '2011'}, '7': {'id': '7', 'name': 'Ata', 'type': 'Officer', 'age': '36', 'status': 'Officer', 'kids': '2', 'years': '2004'}, '9': {'id': '9', 'name': 'Sadam', 'type': 'Officer', 'age': '32', 'status': 'married', 'kids': '1', 'years': '2019'}, '8': {'id': '8', 'name': 'Junaid', 'type': 'Officer', 'age': '25', 'status': 'single', 'kids': '0', 'years': '2019'}, '10': {'id': '10', 'name': 'Asad', 'type': 'Officer', 'age': '27', 'status': 'single', 'kids': '0', 'years': '2020'}, '11': {'id': '11', 'name': 'Rafiq', 'type': 'Staff', 'age': '35', 'status': 'single', 'kids': '0', 'years': '2008'}}"
   ]
  },
  {
   "cell_type": "code",
   "execution_count": 1,
   "metadata": {},
   "outputs": [],
   "source": [
    "dict_employee = {}"
   ]
  }
 ],
 "metadata": {
  "kernelspec": {
   "display_name": "Python 3",
   "language": "python",
   "name": "python3"
  },
  "language_info": {
   "codemirror_mode": {
    "name": "ipython",
    "version": 3
   },
   "file_extension": ".py",
   "mimetype": "text/x-python",
   "name": "python",
   "nbconvert_exporter": "python",
   "pygments_lexer": "ipython3",
   "version": "3.8.5"
  }
 },
 "nbformat": 4,
 "nbformat_minor": 4
}
